{
 "cells": [
  {
   "cell_type": "code",
   "execution_count": 1,
   "metadata": {},
   "outputs": [],
   "source": [
    "import pandas as pd\n",
    "import numpy as np\n",
    "import matplotlib.pyplot as pyplot"
   ]
  },
  {
   "cell_type": "markdown",
   "metadata": {},
   "source": [
    "### Import Data"
   ]
  },
  {
   "cell_type": "code",
   "execution_count": 2,
   "metadata": {},
   "outputs": [],
   "source": [
    "raw = pd.read_csv('./Capmpingi_employee_reviews.csv')"
   ]
  },
  {
   "cell_type": "markdown",
   "metadata": {},
   "source": [
    "### Explore Data"
   ]
  },
  {
   "cell_type": "code",
   "execution_count": 3,
   "metadata": {},
   "outputs": [
    {
     "name": "stdout",
     "output_type": "stream",
     "text": [
      "<class 'pandas.core.frame.DataFrame'>\n",
      "RangeIndex: 26993 entries, 0 to 26992\n",
      "Data columns (total 14 columns):\n",
      " #   Column               Non-Null Count  Dtype  \n",
      "---  ------               --------------  -----  \n",
      " 0   Title                25912 non-null  object \n",
      " 1   Place                24597 non-null  object \n",
      " 2   Job_type             11556 non-null  object \n",
      " 3   Department           22083 non-null  object \n",
      " 4   Date                 25915 non-null  object \n",
      " 5   Overall_rating       25898 non-null  float64\n",
      " 6   work_life_balance    26977 non-null  float64\n",
      " 7   skill_development    26976 non-null  float64\n",
      " 8   salary_and_benefits  26947 non-null  float64\n",
      " 9   job_security         26943 non-null  float64\n",
      " 10  career_growth        26931 non-null  float64\n",
      " 11  work_satisfaction    26909 non-null  float64\n",
      " 12  Likes                23864 non-null  object \n",
      " 13  Dislikes             22966 non-null  object \n",
      "dtypes: float64(7), object(7)\n",
      "memory usage: 2.9+ MB\n"
     ]
    }
   ],
   "source": [
    "raw.info()"
   ]
  },
  {
   "cell_type": "code",
   "execution_count": 4,
   "metadata": {},
   "outputs": [
    {
     "data": {
      "text/plain": [
       "(26993, 14)"
      ]
     },
     "execution_count": 4,
     "metadata": {},
     "output_type": "execute_result"
    }
   ],
   "source": [
    "raw.shape"
   ]
  },
  {
   "cell_type": "code",
   "execution_count": 14,
   "metadata": {},
   "outputs": [
    {
     "data": {
      "text/html": [
       "<div>\n",
       "<style scoped>\n",
       "    .dataframe tbody tr th:only-of-type {\n",
       "        vertical-align: middle;\n",
       "    }\n",
       "\n",
       "    .dataframe tbody tr th {\n",
       "        vertical-align: top;\n",
       "    }\n",
       "\n",
       "    .dataframe thead th {\n",
       "        text-align: right;\n",
       "    }\n",
       "</style>\n",
       "<table border=\"1\" class=\"dataframe\">\n",
       "  <thead>\n",
       "    <tr style=\"text-align: right;\">\n",
       "      <th></th>\n",
       "      <th>title</th>\n",
       "      <th>place</th>\n",
       "      <th>job_type</th>\n",
       "      <th>department</th>\n",
       "      <th>date</th>\n",
       "      <th>overall_rating</th>\n",
       "      <th>work_life_balance</th>\n",
       "      <th>skill_development</th>\n",
       "      <th>salary_and_benefits</th>\n",
       "      <th>job_security</th>\n",
       "      <th>career_growth</th>\n",
       "      <th>work_satisfaction</th>\n",
       "      <th>likes</th>\n",
       "      <th>dislikes</th>\n",
       "    </tr>\n",
       "  </thead>\n",
       "  <tbody>\n",
       "    <tr>\n",
       "      <th>0</th>\n",
       "      <td>Senior Consultant</td>\n",
       "      <td>Pune</td>\n",
       "      <td>Full Time</td>\n",
       "      <td>General Insurance Department</td>\n",
       "      <td>8 Sep 2023</td>\n",
       "      <td>Good</td>\n",
       "      <td>Good</td>\n",
       "      <td>Normal</td>\n",
       "      <td>Normal</td>\n",
       "      <td>Good</td>\n",
       "      <td>Good</td>\n",
       "      <td>Good</td>\n",
       "      <td>Deserved candidates are promoted promptly.\\nUn...</td>\n",
       "      <td>With designation promotions good salary increm...</td>\n",
       "    </tr>\n",
       "    <tr>\n",
       "      <th>1</th>\n",
       "      <td>Senior Software Engineer</td>\n",
       "      <td>Kolkata, West Bengal</td>\n",
       "      <td>Full Time</td>\n",
       "      <td>Software Development Department</td>\n",
       "      <td>7 Sep 2023</td>\n",
       "      <td>Normal</td>\n",
       "      <td>Good</td>\n",
       "      <td>Good</td>\n",
       "      <td>Normal</td>\n",
       "      <td>Good</td>\n",
       "      <td>Good</td>\n",
       "      <td>Normal</td>\n",
       "      <td>You got lot of learning platform and monthly l...</td>\n",
       "      <td>You will get fully not tech project.\\nThere is...</td>\n",
       "    </tr>\n",
       "  </tbody>\n",
       "</table>\n",
       "</div>"
      ],
      "text/plain": [
       "                      title                 place   job_type  \\\n",
       "0         Senior Consultant                  Pune  Full Time   \n",
       "1  Senior Software Engineer  Kolkata, West Bengal  Full Time   \n",
       "\n",
       "                        department        date overall_rating  \\\n",
       "0     General Insurance Department  8 Sep 2023           Good   \n",
       "1  Software Development Department  7 Sep 2023         Normal   \n",
       "\n",
       "  work_life_balance skill_development salary_and_benefits job_security  \\\n",
       "0              Good            Normal              Normal         Good   \n",
       "1              Good              Good              Normal         Good   \n",
       "\n",
       "  career_growth work_satisfaction  \\\n",
       "0          Good              Good   \n",
       "1          Good            Normal   \n",
       "\n",
       "                                               likes  \\\n",
       "0  Deserved candidates are promoted promptly.\\nUn...   \n",
       "1  You got lot of learning platform and monthly l...   \n",
       "\n",
       "                                            dislikes  \n",
       "0  With designation promotions good salary increm...  \n",
       "1  You will get fully not tech project.\\nThere is...  "
      ]
     },
     "execution_count": 14,
     "metadata": {},
     "output_type": "execute_result"
    }
   ],
   "source": [
    "raw.head(2)"
   ]
  },
  {
   "cell_type": "code",
   "execution_count": 15,
   "metadata": {},
   "outputs": [
    {
     "data": {
      "text/html": [
       "<div>\n",
       "<style scoped>\n",
       "    .dataframe tbody tr th:only-of-type {\n",
       "        vertical-align: middle;\n",
       "    }\n",
       "\n",
       "    .dataframe tbody tr th {\n",
       "        vertical-align: top;\n",
       "    }\n",
       "\n",
       "    .dataframe thead th {\n",
       "        text-align: right;\n",
       "    }\n",
       "</style>\n",
       "<table border=\"1\" class=\"dataframe\">\n",
       "  <thead>\n",
       "    <tr style=\"text-align: right;\">\n",
       "      <th></th>\n",
       "      <th>title</th>\n",
       "      <th>place</th>\n",
       "      <th>job_type</th>\n",
       "      <th>department</th>\n",
       "      <th>date</th>\n",
       "      <th>overall_rating</th>\n",
       "      <th>work_life_balance</th>\n",
       "      <th>skill_development</th>\n",
       "      <th>salary_and_benefits</th>\n",
       "      <th>job_security</th>\n",
       "      <th>career_growth</th>\n",
       "      <th>work_satisfaction</th>\n",
       "      <th>likes</th>\n",
       "      <th>dislikes</th>\n",
       "    </tr>\n",
       "  </thead>\n",
       "  <tbody>\n",
       "    <tr>\n",
       "      <th>count</th>\n",
       "      <td>26993</td>\n",
       "      <td>26993</td>\n",
       "      <td>11556</td>\n",
       "      <td>26993</td>\n",
       "      <td>25915</td>\n",
       "      <td>26993</td>\n",
       "      <td>26977</td>\n",
       "      <td>26993</td>\n",
       "      <td>26993</td>\n",
       "      <td>26993</td>\n",
       "      <td>26993</td>\n",
       "      <td>26993</td>\n",
       "      <td>23864</td>\n",
       "      <td>22966</td>\n",
       "    </tr>\n",
       "    <tr>\n",
       "      <th>unique</th>\n",
       "      <td>4240</td>\n",
       "      <td>831</td>\n",
       "      <td>5</td>\n",
       "      <td>620</td>\n",
       "      <td>739</td>\n",
       "      <td>6</td>\n",
       "      <td>5</td>\n",
       "      <td>6</td>\n",
       "      <td>6</td>\n",
       "      <td>6</td>\n",
       "      <td>6</td>\n",
       "      <td>6</td>\n",
       "      <td>17505</td>\n",
       "      <td>17558</td>\n",
       "    </tr>\n",
       "    <tr>\n",
       "      <th>top</th>\n",
       "      <td>Associate Consultant</td>\n",
       "      <td>Bangalore</td>\n",
       "      <td>Full Time</td>\n",
       "      <td>Software Development Department</td>\n",
       "      <td>6 May 2022</td>\n",
       "      <td>Good</td>\n",
       "      <td>Very Good</td>\n",
       "      <td>Good</td>\n",
       "      <td>Normal</td>\n",
       "      <td>Very Good</td>\n",
       "      <td>Very Good</td>\n",
       "      <td>Normal</td>\n",
       "      <td>Nothing</td>\n",
       "      <td>Nothing</td>\n",
       "    </tr>\n",
       "    <tr>\n",
       "      <th>freq</th>\n",
       "      <td>3013</td>\n",
       "      <td>2977</td>\n",
       "      <td>11340</td>\n",
       "      <td>8936</td>\n",
       "      <td>295</td>\n",
       "      <td>8465</td>\n",
       "      <td>8656</td>\n",
       "      <td>8333</td>\n",
       "      <td>7459</td>\n",
       "      <td>9659</td>\n",
       "      <td>8822</td>\n",
       "      <td>6931</td>\n",
       "      <td>815</td>\n",
       "      <td>943</td>\n",
       "    </tr>\n",
       "  </tbody>\n",
       "</table>\n",
       "</div>"
      ],
      "text/plain": [
       "                       title      place   job_type  \\\n",
       "count                  26993      26993      11556   \n",
       "unique                  4240        831          5   \n",
       "top     Associate Consultant  Bangalore  Full Time   \n",
       "freq                    3013       2977      11340   \n",
       "\n",
       "                             department        date overall_rating  \\\n",
       "count                             26993       25915          26993   \n",
       "unique                              620         739              6   \n",
       "top     Software Development Department  6 May 2022           Good   \n",
       "freq                               8936         295           8465   \n",
       "\n",
       "       work_life_balance skill_development salary_and_benefits job_security  \\\n",
       "count              26977             26993               26993        26993   \n",
       "unique                 5                 6                   6            6   \n",
       "top            Very Good              Good              Normal    Very Good   \n",
       "freq                8656              8333                7459         9659   \n",
       "\n",
       "       career_growth work_satisfaction    likes dislikes  \n",
       "count          26993             26993    23864    22966  \n",
       "unique             6                 6    17505    17558  \n",
       "top        Very Good            Normal  Nothing  Nothing  \n",
       "freq            8822              6931      815      943  "
      ]
     },
     "execution_count": 15,
     "metadata": {},
     "output_type": "execute_result"
    }
   ],
   "source": [
    "raw.describe()"
   ]
  },
  {
   "cell_type": "markdown",
   "metadata": {},
   "source": [
    "### Data cleaning"
   ]
  },
  {
   "cell_type": "markdown",
   "metadata": {},
   "source": [
    "### Data wrangling"
   ]
  },
  {
   "cell_type": "markdown",
   "metadata": {},
   "source": [
    "#### Rename columns"
   ]
  },
  {
   "cell_type": "code",
   "execution_count": 6,
   "metadata": {},
   "outputs": [],
   "source": [
    "# new_columns = {\n",
    "#     'work_life_balance': 'Work_life_balance',\n",
    "#     'skill_development': 'Skill_development',\n",
    "#     'salary_and_benefits': 'Salary_and_benefits',\n",
    "#     'job_security': 'Job_security',\n",
    "#     'career_growth': 'Career_growth',\n",
    "#     'work_satisfaction' : 'Work_satisfaction'\n",
    "# }\n",
    "raw.rename(columns=str.lower,inplace=True)"
   ]
  },
  {
   "cell_type": "markdown",
   "metadata": {},
   "source": [
    "#### Replace nans with not responded"
   ]
  },
  {
   "cell_type": "code",
   "execution_count": 23,
   "metadata": {},
   "outputs": [
    {
     "data": {
      "text/plain": [
       "title                  26993\n",
       "place                  26993\n",
       "job_type               26993\n",
       "department             26993\n",
       "date                   26993\n",
       "overall_rating         26993\n",
       "work_life_balance      26993\n",
       "skill_development      26993\n",
       "salary_and_benefits    26993\n",
       "job_security           26993\n",
       "career_growth          26993\n",
       "work_satisfaction      26993\n",
       "likes                  26993\n",
       "dislikes               26993\n",
       "dtype: int64"
      ]
     },
     "execution_count": 23,
     "metadata": {},
     "output_type": "execute_result"
    }
   ],
   "source": [
    "raw.isnull().count()"
   ]
  },
  {
   "cell_type": "code",
   "execution_count": 24,
   "metadata": {},
   "outputs": [],
   "source": [
    "raw['title'].replace(np.nan,'Other',inplace=True)\n",
    "raw['place'].replace(np.nan,'Other',inplace=True)\n",
    "raw['department'].replace(np.nan,'Other',inplace=True)\n",
    "raw['overall_rating'].replace(np.nan,'Unknown',inplace=True)\n",
    "raw['work_satisfaction'].replace(np.nan,'Unknown',inplace=True)\n",
    "raw['skill_development'].replace(np.nan,'Unknown',inplace=True)\n",
    "raw['salary_and_benefits'].replace(np.nan,'Unknown',inplace=True)\n",
    "raw['job_security'].replace(np.nan,'Unknown',inplace=True)\n",
    "raw['career_growth'].replace(np.nan,'Unknown',inplace=True)\n",
    "raw['work_satisfaction'].replace(np.nan,'Unknown',inplace=True)\n"
   ]
  },
  {
   "cell_type": "markdown",
   "metadata": {},
   "source": [
    "#### Convert rating to text in place of number rating"
   ]
  },
  {
   "cell_type": "code",
   "execution_count": 9,
   "metadata": {},
   "outputs": [
    {
     "data": {
      "text/plain": [
       "array([4.0, 3.0, 1.0, 5.0, 2.0, 'Unknown'], dtype=object)"
      ]
     },
     "execution_count": 9,
     "metadata": {},
     "output_type": "execute_result"
    }
   ],
   "source": [
    "raw['overall_rating'].unique()"
   ]
  },
  {
   "cell_type": "code",
   "execution_count": 10,
   "metadata": {},
   "outputs": [],
   "source": [
    "rating = {1:'Not at all',2:'Not so',3:'Normal',4:'Good',5:'Very Good'}"
   ]
  },
  {
   "cell_type": "code",
   "execution_count": 11,
   "metadata": {},
   "outputs": [
    {
     "data": {
      "text/html": [
       "<div>\n",
       "<style scoped>\n",
       "    .dataframe tbody tr th:only-of-type {\n",
       "        vertical-align: middle;\n",
       "    }\n",
       "\n",
       "    .dataframe tbody tr th {\n",
       "        vertical-align: top;\n",
       "    }\n",
       "\n",
       "    .dataframe thead th {\n",
       "        text-align: right;\n",
       "    }\n",
       "</style>\n",
       "<table border=\"1\" class=\"dataframe\">\n",
       "  <thead>\n",
       "    <tr style=\"text-align: right;\">\n",
       "      <th></th>\n",
       "      <th>title</th>\n",
       "      <th>place</th>\n",
       "      <th>job_type</th>\n",
       "      <th>department</th>\n",
       "      <th>date</th>\n",
       "      <th>overall_rating</th>\n",
       "      <th>work_life_balance</th>\n",
       "      <th>skill_development</th>\n",
       "      <th>salary_and_benefits</th>\n",
       "      <th>job_security</th>\n",
       "      <th>career_growth</th>\n",
       "      <th>work_satisfaction</th>\n",
       "      <th>likes</th>\n",
       "      <th>dislikes</th>\n",
       "    </tr>\n",
       "  </thead>\n",
       "  <tbody>\n",
       "    <tr>\n",
       "      <th>0</th>\n",
       "      <td>Senior Consultant</td>\n",
       "      <td>Pune</td>\n",
       "      <td>Full Time</td>\n",
       "      <td>General Insurance Department</td>\n",
       "      <td>8 Sep 2023</td>\n",
       "      <td>Good</td>\n",
       "      <td>Good</td>\n",
       "      <td>Normal</td>\n",
       "      <td>Normal</td>\n",
       "      <td>Good</td>\n",
       "      <td>Good</td>\n",
       "      <td>Good</td>\n",
       "      <td>Deserved candidates are promoted promptly.\\nUn...</td>\n",
       "      <td>With designation promotions good salary increm...</td>\n",
       "    </tr>\n",
       "    <tr>\n",
       "      <th>1</th>\n",
       "      <td>Senior Software Engineer</td>\n",
       "      <td>Kolkata, West Bengal</td>\n",
       "      <td>Full Time</td>\n",
       "      <td>Software Development Department</td>\n",
       "      <td>7 Sep 2023</td>\n",
       "      <td>Normal</td>\n",
       "      <td>Good</td>\n",
       "      <td>Good</td>\n",
       "      <td>Normal</td>\n",
       "      <td>Good</td>\n",
       "      <td>Good</td>\n",
       "      <td>Normal</td>\n",
       "      <td>You got lot of learning platform and monthly l...</td>\n",
       "      <td>You will get fully not tech project.\\nThere is...</td>\n",
       "    </tr>\n",
       "    <tr>\n",
       "      <th>2</th>\n",
       "      <td>Senior Consultant</td>\n",
       "      <td>Bengaluru/Bangalore, Karnataka</td>\n",
       "      <td>Full Time</td>\n",
       "      <td>Software Development Department</td>\n",
       "      <td>6 Sep 2023</td>\n",
       "      <td>Good</td>\n",
       "      <td>Good</td>\n",
       "      <td>Very Good</td>\n",
       "      <td>Normal</td>\n",
       "      <td>Normal</td>\n",
       "      <td>Good</td>\n",
       "      <td>Normal</td>\n",
       "      <td>Based on which Business Unit you are you will ...</td>\n",
       "      <td>Some top level management people bring bad nam...</td>\n",
       "    </tr>\n",
       "    <tr>\n",
       "      <th>3</th>\n",
       "      <td>Senior Consultant</td>\n",
       "      <td>Pune, Maharashtra</td>\n",
       "      <td>Full Time</td>\n",
       "      <td>Banking Operations Department</td>\n",
       "      <td>6 Sep 2023</td>\n",
       "      <td>Not at all</td>\n",
       "      <td>Not so</td>\n",
       "      <td>Good</td>\n",
       "      <td>Not at all</td>\n",
       "      <td>Good</td>\n",
       "      <td>Not at all</td>\n",
       "      <td>Not at all</td>\n",
       "      <td>Some client projects are good as they use the ...</td>\n",
       "      <td>Culture, micro management, unprofessional beha...</td>\n",
       "    </tr>\n",
       "    <tr>\n",
       "      <th>4</th>\n",
       "      <td>Team Lead</td>\n",
       "      <td>Noida, Uttar Pradesh</td>\n",
       "      <td>Full Time</td>\n",
       "      <td>IT Infrastructure Services Department</td>\n",
       "      <td>5 Sep 2023</td>\n",
       "      <td>Good</td>\n",
       "      <td>Very Good</td>\n",
       "      <td>Good</td>\n",
       "      <td>Good</td>\n",
       "      <td>Good</td>\n",
       "      <td>Good</td>\n",
       "      <td>Normal</td>\n",
       "      <td>I have worked in IBM (4 years) ,TCS (1 year) ,...</td>\n",
       "      <td>Medical insurance amount is quite low compare ...</td>\n",
       "    </tr>\n",
       "  </tbody>\n",
       "</table>\n",
       "</div>"
      ],
      "text/plain": [
       "                      title                           place   job_type  \\\n",
       "0         Senior Consultant                            Pune  Full Time   \n",
       "1  Senior Software Engineer            Kolkata, West Bengal  Full Time   \n",
       "2         Senior Consultant  Bengaluru/Bangalore, Karnataka  Full Time   \n",
       "3         Senior Consultant               Pune, Maharashtra  Full Time   \n",
       "4                 Team Lead            Noida, Uttar Pradesh  Full Time   \n",
       "\n",
       "                              department        date overall_rating  \\\n",
       "0           General Insurance Department  8 Sep 2023           Good   \n",
       "1        Software Development Department  7 Sep 2023         Normal   \n",
       "2        Software Development Department  6 Sep 2023           Good   \n",
       "3          Banking Operations Department  6 Sep 2023     Not at all   \n",
       "4  IT Infrastructure Services Department  5 Sep 2023           Good   \n",
       "\n",
       "  work_life_balance skill_development salary_and_benefits job_security  \\\n",
       "0              Good            Normal              Normal         Good   \n",
       "1              Good              Good              Normal         Good   \n",
       "2              Good         Very Good              Normal       Normal   \n",
       "3            Not so              Good          Not at all         Good   \n",
       "4         Very Good              Good                Good         Good   \n",
       "\n",
       "  career_growth work_satisfaction  \\\n",
       "0          Good              Good   \n",
       "1          Good            Normal   \n",
       "2          Good            Normal   \n",
       "3    Not at all        Not at all   \n",
       "4          Good            Normal   \n",
       "\n",
       "                                               likes  \\\n",
       "0  Deserved candidates are promoted promptly.\\nUn...   \n",
       "1  You got lot of learning platform and monthly l...   \n",
       "2  Based on which Business Unit you are you will ...   \n",
       "3  Some client projects are good as they use the ...   \n",
       "4  I have worked in IBM (4 years) ,TCS (1 year) ,...   \n",
       "\n",
       "                                            dislikes  \n",
       "0  With designation promotions good salary increm...  \n",
       "1  You will get fully not tech project.\\nThere is...  \n",
       "2  Some top level management people bring bad nam...  \n",
       "3  Culture, micro management, unprofessional beha...  \n",
       "4  Medical insurance amount is quite low compare ...  "
      ]
     },
     "execution_count": 11,
     "metadata": {},
     "output_type": "execute_result"
    }
   ],
   "source": [
    "raw.replace(rating,inplace=True)\n",
    "raw.head(5)"
   ]
  },
  {
   "cell_type": "markdown",
   "metadata": {},
   "source": [
    "### Data analysis"
   ]
  },
  {
   "cell_type": "code",
   "execution_count": 12,
   "metadata": {},
   "outputs": [
    {
     "data": {
      "text/plain": [
       "title                                    job_type \n",
       "(google Maping                           Full Time    1\n",
       "-Senior Consultant                       Full Time    1\n",
       ".net Architect                           Full Time    1\n",
       ".net Developer                           Full Time    1\n",
       ".net Trainer                             Full Time    1\n",
       "                                                     ..\n",
       "Worked As A Siebel Associate Consultant  Full Time    1\n",
       "Worker                                   Full Time    1\n",
       "Working At Capgemini As An Associate     Full Time    1\n",
       "Workshop Incharge   (working remotely)   Part Time    1\n",
       "Wso2 Developer                           Full Time    1\n",
       "Name: count, Length: 2417, dtype: int64"
      ]
     },
     "execution_count": 12,
     "metadata": {},
     "output_type": "execute_result"
    }
   ],
   "source": [
    "# grouping = raw.groupby(['title'])\n",
    "# grouping.get_group('overall_rating')\n",
    "\n",
    "grouping = raw.groupby(by=['title'])\n",
    "# grouping.get_group('title')\n",
    "grouping['job_type'].value_counts()"
   ]
  },
  {
   "cell_type": "markdown",
   "metadata": {},
   "source": [
    "### Save the output"
   ]
  },
  {
   "cell_type": "code",
   "execution_count": 13,
   "metadata": {},
   "outputs": [],
   "source": [
    "# raw.to_excel('Data_salaries_output.xlxs',sheet_name=\"salaries\")\n",
    "# # \n",
    "# with pd.ExcelWriter('Data_salaries_output.xlxs',engine='xlsxwriter') as excel_writer:\n",
    "#     raw.to_excel(excel_writer, sheet_name='salaries', index=False)\n",
    "raw.to_csv('Capmpingi_employee_reviews_output.csv')"
   ]
  }
 ],
 "metadata": {
  "kernelspec": {
   "display_name": "Python 3",
   "language": "python",
   "name": "python3"
  },
  "language_info": {
   "codemirror_mode": {
    "name": "ipython",
    "version": 3
   },
   "file_extension": ".py",
   "mimetype": "text/x-python",
   "name": "python",
   "nbconvert_exporter": "python",
   "pygments_lexer": "ipython3",
   "version": "3.11.4"
  }
 },
 "nbformat": 4,
 "nbformat_minor": 2
}
