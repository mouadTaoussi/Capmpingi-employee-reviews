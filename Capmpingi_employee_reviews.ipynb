{
 "cells": [
  {
   "cell_type": "code",
   "execution_count": 1,
   "metadata": {},
   "outputs": [],
   "source": [
    "import pandas as pd\n",
    "import numpy as np\n",
    "import matplotlib.pyplot as pyplot"
   ]
  },
  {
   "cell_type": "markdown",
   "metadata": {},
   "source": [
    "### Import Data"
   ]
  },
  {
   "cell_type": "code",
   "execution_count": 2,
   "metadata": {},
   "outputs": [],
   "source": [
    "raw = pd.read_csv('./Capmpingi_employee_reviews.csv')"
   ]
  },
  {
   "cell_type": "markdown",
   "metadata": {},
   "source": [
    "### Explore Data"
   ]
  },
  {
   "cell_type": "code",
   "execution_count": 3,
   "metadata": {},
   "outputs": [
    {
     "name": "stdout",
     "output_type": "stream",
     "text": [
      "<class 'pandas.core.frame.DataFrame'>\n",
      "RangeIndex: 26993 entries, 0 to 26992\n",
      "Data columns (total 14 columns):\n",
      " #   Column               Non-Null Count  Dtype  \n",
      "---  ------               --------------  -----  \n",
      " 0   Title                25912 non-null  object \n",
      " 1   Place                24597 non-null  object \n",
      " 2   Job_type             11556 non-null  object \n",
      " 3   Department           22083 non-null  object \n",
      " 4   Date                 25915 non-null  object \n",
      " 5   Overall_rating       25898 non-null  float64\n",
      " 6   work_life_balance    26977 non-null  float64\n",
      " 7   skill_development    26976 non-null  float64\n",
      " 8   salary_and_benefits  26947 non-null  float64\n",
      " 9   job_security         26943 non-null  float64\n",
      " 10  career_growth        26931 non-null  float64\n",
      " 11  work_satisfaction    26909 non-null  float64\n",
      " 12  Likes                23864 non-null  object \n",
      " 13  Dislikes             22966 non-null  object \n",
      "dtypes: float64(7), object(7)\n",
      "memory usage: 2.9+ MB\n"
     ]
    }
   ],
   "source": [
    "raw.info()"
   ]
  },
  {
   "cell_type": "code",
   "execution_count": 4,
   "metadata": {},
   "outputs": [
    {
     "data": {
      "text/plain": [
       "(26993, 14)"
      ]
     },
     "execution_count": 4,
     "metadata": {},
     "output_type": "execute_result"
    }
   ],
   "source": [
    "raw.shape"
   ]
  },
  {
   "cell_type": "code",
   "execution_count": 5,
   "metadata": {},
   "outputs": [
    {
     "data": {
      "text/html": [
       "<div>\n",
       "<style scoped>\n",
       "    .dataframe tbody tr th:only-of-type {\n",
       "        vertical-align: middle;\n",
       "    }\n",
       "\n",
       "    .dataframe tbody tr th {\n",
       "        vertical-align: top;\n",
       "    }\n",
       "\n",
       "    .dataframe thead th {\n",
       "        text-align: right;\n",
       "    }\n",
       "</style>\n",
       "<table border=\"1\" class=\"dataframe\">\n",
       "  <thead>\n",
       "    <tr style=\"text-align: right;\">\n",
       "      <th></th>\n",
       "      <th>Title</th>\n",
       "      <th>Place</th>\n",
       "      <th>Job_type</th>\n",
       "      <th>Department</th>\n",
       "      <th>Date</th>\n",
       "      <th>Overall_rating</th>\n",
       "      <th>work_life_balance</th>\n",
       "      <th>skill_development</th>\n",
       "      <th>salary_and_benefits</th>\n",
       "      <th>job_security</th>\n",
       "      <th>career_growth</th>\n",
       "      <th>work_satisfaction</th>\n",
       "      <th>Likes</th>\n",
       "      <th>Dislikes</th>\n",
       "    </tr>\n",
       "  </thead>\n",
       "  <tbody>\n",
       "    <tr>\n",
       "      <th>0</th>\n",
       "      <td>Senior Consultant</td>\n",
       "      <td>Pune</td>\n",
       "      <td>Full Time</td>\n",
       "      <td>General Insurance Department</td>\n",
       "      <td>8 Sep 2023</td>\n",
       "      <td>4.0</td>\n",
       "      <td>4.0</td>\n",
       "      <td>3.0</td>\n",
       "      <td>3.0</td>\n",
       "      <td>4.0</td>\n",
       "      <td>4.0</td>\n",
       "      <td>4.0</td>\n",
       "      <td>Deserved candidates are promoted promptly.\\nUn...</td>\n",
       "      <td>With designation promotions good salary increm...</td>\n",
       "    </tr>\n",
       "    <tr>\n",
       "      <th>1</th>\n",
       "      <td>Senior Software Engineer</td>\n",
       "      <td>Kolkata, West Bengal</td>\n",
       "      <td>Full Time</td>\n",
       "      <td>Software Development Department</td>\n",
       "      <td>7 Sep 2023</td>\n",
       "      <td>3.0</td>\n",
       "      <td>4.0</td>\n",
       "      <td>4.0</td>\n",
       "      <td>3.0</td>\n",
       "      <td>4.0</td>\n",
       "      <td>4.0</td>\n",
       "      <td>3.0</td>\n",
       "      <td>You got lot of learning platform and monthly l...</td>\n",
       "      <td>You will get fully not tech project.\\nThere is...</td>\n",
       "    </tr>\n",
       "  </tbody>\n",
       "</table>\n",
       "</div>"
      ],
      "text/plain": [
       "                      Title                 Place   Job_type  \\\n",
       "0         Senior Consultant                  Pune  Full Time   \n",
       "1  Senior Software Engineer  Kolkata, West Bengal  Full Time   \n",
       "\n",
       "                        Department        Date  Overall_rating  \\\n",
       "0     General Insurance Department  8 Sep 2023             4.0   \n",
       "1  Software Development Department  7 Sep 2023             3.0   \n",
       "\n",
       "   work_life_balance  skill_development  salary_and_benefits  job_security  \\\n",
       "0                4.0                3.0                  3.0           4.0   \n",
       "1                4.0                4.0                  3.0           4.0   \n",
       "\n",
       "   career_growth  work_satisfaction  \\\n",
       "0            4.0                4.0   \n",
       "1            4.0                3.0   \n",
       "\n",
       "                                               Likes  \\\n",
       "0  Deserved candidates are promoted promptly.\\nUn...   \n",
       "1  You got lot of learning platform and monthly l...   \n",
       "\n",
       "                                            Dislikes  \n",
       "0  With designation promotions good salary increm...  \n",
       "1  You will get fully not tech project.\\nThere is...  "
      ]
     },
     "execution_count": 5,
     "metadata": {},
     "output_type": "execute_result"
    }
   ],
   "source": [
    "raw.head(2)"
   ]
  },
  {
   "cell_type": "code",
   "execution_count": 6,
   "metadata": {},
   "outputs": [
    {
     "data": {
      "text/html": [
       "<div>\n",
       "<style scoped>\n",
       "    .dataframe tbody tr th:only-of-type {\n",
       "        vertical-align: middle;\n",
       "    }\n",
       "\n",
       "    .dataframe tbody tr th {\n",
       "        vertical-align: top;\n",
       "    }\n",
       "\n",
       "    .dataframe thead th {\n",
       "        text-align: right;\n",
       "    }\n",
       "</style>\n",
       "<table border=\"1\" class=\"dataframe\">\n",
       "  <thead>\n",
       "    <tr style=\"text-align: right;\">\n",
       "      <th></th>\n",
       "      <th>Overall_rating</th>\n",
       "      <th>work_life_balance</th>\n",
       "      <th>skill_development</th>\n",
       "      <th>salary_and_benefits</th>\n",
       "      <th>job_security</th>\n",
       "      <th>career_growth</th>\n",
       "      <th>work_satisfaction</th>\n",
       "    </tr>\n",
       "  </thead>\n",
       "  <tbody>\n",
       "    <tr>\n",
       "      <th>count</th>\n",
       "      <td>25898.000000</td>\n",
       "      <td>26977.000000</td>\n",
       "      <td>26976.000000</td>\n",
       "      <td>26947.000000</td>\n",
       "      <td>26943.000000</td>\n",
       "      <td>26931.000000</td>\n",
       "      <td>26909.000000</td>\n",
       "    </tr>\n",
       "    <tr>\n",
       "      <th>mean</th>\n",
       "      <td>3.707236</td>\n",
       "      <td>3.662379</td>\n",
       "      <td>3.636084</td>\n",
       "      <td>3.037444</td>\n",
       "      <td>3.782541</td>\n",
       "      <td>3.628458</td>\n",
       "      <td>3.171801</td>\n",
       "    </tr>\n",
       "    <tr>\n",
       "      <th>std</th>\n",
       "      <td>1.257180</td>\n",
       "      <td>1.287039</td>\n",
       "      <td>1.270036</td>\n",
       "      <td>1.337186</td>\n",
       "      <td>1.269125</td>\n",
       "      <td>1.329579</td>\n",
       "      <td>1.349958</td>\n",
       "    </tr>\n",
       "    <tr>\n",
       "      <th>min</th>\n",
       "      <td>1.000000</td>\n",
       "      <td>1.000000</td>\n",
       "      <td>1.000000</td>\n",
       "      <td>1.000000</td>\n",
       "      <td>1.000000</td>\n",
       "      <td>1.000000</td>\n",
       "      <td>1.000000</td>\n",
       "    </tr>\n",
       "    <tr>\n",
       "      <th>25%</th>\n",
       "      <td>3.000000</td>\n",
       "      <td>3.000000</td>\n",
       "      <td>3.000000</td>\n",
       "      <td>2.000000</td>\n",
       "      <td>3.000000</td>\n",
       "      <td>3.000000</td>\n",
       "      <td>2.000000</td>\n",
       "    </tr>\n",
       "    <tr>\n",
       "      <th>50%</th>\n",
       "      <td>4.000000</td>\n",
       "      <td>4.000000</td>\n",
       "      <td>4.000000</td>\n",
       "      <td>3.000000</td>\n",
       "      <td>4.000000</td>\n",
       "      <td>4.000000</td>\n",
       "      <td>3.000000</td>\n",
       "    </tr>\n",
       "    <tr>\n",
       "      <th>75%</th>\n",
       "      <td>5.000000</td>\n",
       "      <td>5.000000</td>\n",
       "      <td>5.000000</td>\n",
       "      <td>4.000000</td>\n",
       "      <td>5.000000</td>\n",
       "      <td>5.000000</td>\n",
       "      <td>4.000000</td>\n",
       "    </tr>\n",
       "    <tr>\n",
       "      <th>max</th>\n",
       "      <td>5.000000</td>\n",
       "      <td>5.000000</td>\n",
       "      <td>5.000000</td>\n",
       "      <td>5.000000</td>\n",
       "      <td>5.000000</td>\n",
       "      <td>5.000000</td>\n",
       "      <td>5.000000</td>\n",
       "    </tr>\n",
       "  </tbody>\n",
       "</table>\n",
       "</div>"
      ],
      "text/plain": [
       "       Overall_rating  work_life_balance  skill_development  \\\n",
       "count    25898.000000       26977.000000       26976.000000   \n",
       "mean         3.707236           3.662379           3.636084   \n",
       "std          1.257180           1.287039           1.270036   \n",
       "min          1.000000           1.000000           1.000000   \n",
       "25%          3.000000           3.000000           3.000000   \n",
       "50%          4.000000           4.000000           4.000000   \n",
       "75%          5.000000           5.000000           5.000000   \n",
       "max          5.000000           5.000000           5.000000   \n",
       "\n",
       "       salary_and_benefits  job_security  career_growth  work_satisfaction  \n",
       "count         26947.000000  26943.000000   26931.000000       26909.000000  \n",
       "mean              3.037444      3.782541       3.628458           3.171801  \n",
       "std               1.337186      1.269125       1.329579           1.349958  \n",
       "min               1.000000      1.000000       1.000000           1.000000  \n",
       "25%               2.000000      3.000000       3.000000           2.000000  \n",
       "50%               3.000000      4.000000       4.000000           3.000000  \n",
       "75%               4.000000      5.000000       5.000000           4.000000  \n",
       "max               5.000000      5.000000       5.000000           5.000000  "
      ]
     },
     "execution_count": 6,
     "metadata": {},
     "output_type": "execute_result"
    }
   ],
   "source": [
    "raw.describe()"
   ]
  },
  {
   "cell_type": "markdown",
   "metadata": {},
   "source": [
    "### Data cleaning"
   ]
  },
  {
   "cell_type": "code",
   "execution_count": 7,
   "metadata": {},
   "outputs": [],
   "source": [
    "# Drop unwanted columns\n",
    "# raw.drop(['Place','Likes','Dislikes'],axis=1,inplace=True)\n",
    "# raw.head(2)"
   ]
  },
  {
   "cell_type": "markdown",
   "metadata": {},
   "source": [
    "### Data wrangling"
   ]
  },
  {
   "cell_type": "markdown",
   "metadata": {},
   "source": [
    "#### Rename columns"
   ]
  },
  {
   "cell_type": "code",
   "execution_count": 8,
   "metadata": {},
   "outputs": [],
   "source": [
    "raw.rename(columns=str.lower,inplace=True)"
   ]
  },
  {
   "cell_type": "markdown",
   "metadata": {},
   "source": [
    "#### Replace nans with not responded"
   ]
  },
  {
   "cell_type": "code",
   "execution_count": 9,
   "metadata": {},
   "outputs": [
    {
     "data": {
      "text/plain": [
       "title                  26993\n",
       "place                  26993\n",
       "job_type               26993\n",
       "department             26993\n",
       "date                   26993\n",
       "overall_rating         26993\n",
       "work_life_balance      26993\n",
       "skill_development      26993\n",
       "salary_and_benefits    26993\n",
       "job_security           26993\n",
       "career_growth          26993\n",
       "work_satisfaction      26993\n",
       "likes                  26993\n",
       "dislikes               26993\n",
       "dtype: int64"
      ]
     },
     "execution_count": 9,
     "metadata": {},
     "output_type": "execute_result"
    }
   ],
   "source": [
    "raw.isnull().count()"
   ]
  },
  {
   "cell_type": "code",
   "execution_count": 10,
   "metadata": {},
   "outputs": [
    {
     "data": {
      "text/html": [
       "<div>\n",
       "<style scoped>\n",
       "    .dataframe tbody tr th:only-of-type {\n",
       "        vertical-align: middle;\n",
       "    }\n",
       "\n",
       "    .dataframe tbody tr th {\n",
       "        vertical-align: top;\n",
       "    }\n",
       "\n",
       "    .dataframe thead th {\n",
       "        text-align: right;\n",
       "    }\n",
       "</style>\n",
       "<table border=\"1\" class=\"dataframe\">\n",
       "  <thead>\n",
       "    <tr style=\"text-align: right;\">\n",
       "      <th></th>\n",
       "      <th>title</th>\n",
       "      <th>place</th>\n",
       "      <th>job_type</th>\n",
       "      <th>department</th>\n",
       "      <th>date</th>\n",
       "      <th>overall_rating</th>\n",
       "      <th>work_life_balance</th>\n",
       "      <th>skill_development</th>\n",
       "      <th>salary_and_benefits</th>\n",
       "      <th>job_security</th>\n",
       "      <th>career_growth</th>\n",
       "      <th>work_satisfaction</th>\n",
       "      <th>likes</th>\n",
       "      <th>dislikes</th>\n",
       "    </tr>\n",
       "  </thead>\n",
       "  <tbody>\n",
       "  </tbody>\n",
       "</table>\n",
       "</div>"
      ],
      "text/plain": [
       "Empty DataFrame\n",
       "Columns: [title, place, job_type, department, date, overall_rating, work_life_balance, skill_development, salary_and_benefits, job_security, career_growth, work_satisfaction, likes, dislikes]\n",
       "Index: []"
      ]
     },
     "execution_count": 10,
     "metadata": {},
     "output_type": "execute_result"
    }
   ],
   "source": [
    "raw.replace(np.nan,'Unknown',inplace=True)\n",
    "\n",
    "# Remove clolumns that has both title and departement nan values\n",
    "to_be_deleted = (raw['department'] == 'Unknown') & (raw['title'] == 'Unknown')\n",
    "indexes_to_be_deleted = raw.loc[to_be_deleted].index\n",
    "\n",
    "raw.drop(axis=0,index=indexes_to_be_deleted,inplace=True)\n",
    "\n",
    "raw.loc[to_be_deleted]"
   ]
  },
  {
   "cell_type": "markdown",
   "metadata": {},
   "source": [
    "#### Convert rating to text in place of number rating"
   ]
  },
  {
   "cell_type": "code",
   "execution_count": 11,
   "metadata": {},
   "outputs": [
    {
     "data": {
      "text/plain": [
       "array([4.0, 3.0, 1.0, 5.0, 2.0, 'Unknown'], dtype=object)"
      ]
     },
     "execution_count": 11,
     "metadata": {},
     "output_type": "execute_result"
    }
   ],
   "source": [
    "raw['overall_rating'].unique()"
   ]
  },
  {
   "cell_type": "code",
   "execution_count": 12,
   "metadata": {},
   "outputs": [],
   "source": [
    "rating = {1:'1-Too Bad',2:'2-Bad',3:'3-Normal',4:'4-Good',5:'5-Very Good'}"
   ]
  },
  {
   "cell_type": "code",
   "execution_count": 13,
   "metadata": {},
   "outputs": [
    {
     "data": {
      "text/html": [
       "<div>\n",
       "<style scoped>\n",
       "    .dataframe tbody tr th:only-of-type {\n",
       "        vertical-align: middle;\n",
       "    }\n",
       "\n",
       "    .dataframe tbody tr th {\n",
       "        vertical-align: top;\n",
       "    }\n",
       "\n",
       "    .dataframe thead th {\n",
       "        text-align: right;\n",
       "    }\n",
       "</style>\n",
       "<table border=\"1\" class=\"dataframe\">\n",
       "  <thead>\n",
       "    <tr style=\"text-align: right;\">\n",
       "      <th></th>\n",
       "      <th>title</th>\n",
       "      <th>place</th>\n",
       "      <th>job_type</th>\n",
       "      <th>department</th>\n",
       "      <th>date</th>\n",
       "      <th>overall_rating</th>\n",
       "      <th>work_life_balance</th>\n",
       "      <th>skill_development</th>\n",
       "      <th>salary_and_benefits</th>\n",
       "      <th>job_security</th>\n",
       "      <th>career_growth</th>\n",
       "      <th>work_satisfaction</th>\n",
       "      <th>likes</th>\n",
       "      <th>dislikes</th>\n",
       "    </tr>\n",
       "  </thead>\n",
       "  <tbody>\n",
       "    <tr>\n",
       "      <th>0</th>\n",
       "      <td>Senior Consultant</td>\n",
       "      <td>Pune</td>\n",
       "      <td>Full Time</td>\n",
       "      <td>General Insurance Department</td>\n",
       "      <td>8 Sep 2023</td>\n",
       "      <td>4-Good</td>\n",
       "      <td>4-Good</td>\n",
       "      <td>3-Normal</td>\n",
       "      <td>3-Normal</td>\n",
       "      <td>4-Good</td>\n",
       "      <td>4-Good</td>\n",
       "      <td>4-Good</td>\n",
       "      <td>Deserved candidates are promoted promptly.\\nUn...</td>\n",
       "      <td>With designation promotions good salary increm...</td>\n",
       "    </tr>\n",
       "    <tr>\n",
       "      <th>1</th>\n",
       "      <td>Senior Software Engineer</td>\n",
       "      <td>Kolkata, West Bengal</td>\n",
       "      <td>Full Time</td>\n",
       "      <td>Software Development Department</td>\n",
       "      <td>7 Sep 2023</td>\n",
       "      <td>3-Normal</td>\n",
       "      <td>4-Good</td>\n",
       "      <td>4-Good</td>\n",
       "      <td>3-Normal</td>\n",
       "      <td>4-Good</td>\n",
       "      <td>4-Good</td>\n",
       "      <td>3-Normal</td>\n",
       "      <td>You got lot of learning platform and monthly l...</td>\n",
       "      <td>You will get fully not tech project.\\nThere is...</td>\n",
       "    </tr>\n",
       "  </tbody>\n",
       "</table>\n",
       "</div>"
      ],
      "text/plain": [
       "                      title                 place   job_type  \\\n",
       "0         Senior Consultant                  Pune  Full Time   \n",
       "1  Senior Software Engineer  Kolkata, West Bengal  Full Time   \n",
       "\n",
       "                        department        date overall_rating  \\\n",
       "0     General Insurance Department  8 Sep 2023         4-Good   \n",
       "1  Software Development Department  7 Sep 2023       3-Normal   \n",
       "\n",
       "  work_life_balance skill_development salary_and_benefits job_security  \\\n",
       "0            4-Good          3-Normal            3-Normal       4-Good   \n",
       "1            4-Good            4-Good            3-Normal       4-Good   \n",
       "\n",
       "  career_growth work_satisfaction  \\\n",
       "0        4-Good            4-Good   \n",
       "1        4-Good          3-Normal   \n",
       "\n",
       "                                               likes  \\\n",
       "0  Deserved candidates are promoted promptly.\\nUn...   \n",
       "1  You got lot of learning platform and monthly l...   \n",
       "\n",
       "                                            dislikes  \n",
       "0  With designation promotions good salary increm...  \n",
       "1  You will get fully not tech project.\\nThere is...  "
      ]
     },
     "execution_count": 13,
     "metadata": {},
     "output_type": "execute_result"
    }
   ],
   "source": [
    "raw.replace(rating,inplace=True)\n",
    "raw.head(2)"
   ]
  },
  {
   "cell_type": "markdown",
   "metadata": {},
   "source": [
    "### Data analysis"
   ]
  },
  {
   "cell_type": "code",
   "execution_count": 14,
   "metadata": {},
   "outputs": [
    {
     "data": {
      "text/plain": [
       "title                          job_type \n",
       "'sr. Scrum Master'             Unknown      1\n",
       "(google Maping                 Full Time    1\n",
       "-Senior Consultant             Full Time    1\n",
       ".net Architect                 Full Time    1\n",
       ".net Developer                 Full Time    1\n",
       "                                           ..\n",
       "Worksoft Consultant            Unknown      1\n",
       "Wso2 Developer                 Full Time    1\n",
       "Xamarin Architect , Developer  Unknown      1\n",
       "Xyz                            Unknown      1\n",
       "ZENDESK ADMINISTRATOR          Unknown      1\n",
       "Name: count, Length: 5009, dtype: int64"
      ]
     },
     "execution_count": 14,
     "metadata": {},
     "output_type": "execute_result"
    }
   ],
   "source": [
    "grouping = raw.groupby(by=['title'])\n",
    "# grouping.get_group('title')\n",
    "grouping['job_type'].value_counts()"
   ]
  },
  {
   "cell_type": "code",
   "execution_count": 15,
   "metadata": {},
   "outputs": [],
   "source": [
    "# pyplot.bar(raw['department'],raw['department'])\n",
    "# pyplot.show()"
   ]
  },
  {
   "cell_type": "markdown",
   "metadata": {},
   "source": [
    "### Save the output"
   ]
  },
  {
   "cell_type": "code",
   "execution_count": 16,
   "metadata": {},
   "outputs": [],
   "source": [
    "# raw.to_excel('Data_salaries_output.xlxs',sheet_name=\"salaries\")\n",
    "# # \n",
    "# with pd.ExcelWriter('Data_salaries_output.xlxs',engine='xlsxwriter') as excel_writer:\n",
    "#     raw.to_excel(excel_writer, sheet_name='salaries', index=False)\n",
    "raw.to_csv('Capmpingi_employee_reviews_output.csv')"
   ]
  }
 ],
 "metadata": {
  "kernelspec": {
   "display_name": "Python 3",
   "language": "python",
   "name": "python3"
  },
  "language_info": {
   "codemirror_mode": {
    "name": "ipython",
    "version": 3
   },
   "file_extension": ".py",
   "mimetype": "text/x-python",
   "name": "python",
   "nbconvert_exporter": "python",
   "pygments_lexer": "ipython3",
   "version": "3.11.4"
  }
 },
 "nbformat": 4,
 "nbformat_minor": 2
}
